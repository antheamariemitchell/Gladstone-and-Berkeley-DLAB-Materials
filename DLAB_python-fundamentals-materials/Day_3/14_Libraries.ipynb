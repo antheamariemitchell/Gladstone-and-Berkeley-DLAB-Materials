{
 "cells": [
  {
   "cell_type": "markdown",
   "metadata": {},
   "source": [
    "# Libraries\n",
    "\n",
    "**Time**\n",
    "- Teaching: 5 min\n",
    "- Exercises: 5 min\n",
    "\n",
    "**Questions**:\n",
    "- \"How can I use software that other people have written?\"\n",
    "- \"How can I find out what that software does?\"\n",
    "\n",
    "**Learning Objectives**:\n",
    "- \"Explain what software libraries are and why programmers create and use them.\"\n",
    "- \"Write programs that [import](https://github.com/dlab-berkeley/python-intensive/blob/master/Glossary.md#import) and use libraries from Python's standard library.\"\n",
    "- \"Find and read [documentation](https://github.com/dlab-berkeley/python-intensive/blob/master/Glossary.md#documentation) for standard libraries interactively (in the interpreter) and online.\"\n",
    "\n",
    "*****\n",
    "\n",
    "## Most of the power of a programming language is in its libraries.\n",
    "\n",
    "*   A *library* is a collection of functions that can be used by other programs.\n",
    "    *   May also contain data values (e.g., numerical constants).\n",
    "    *   Library's contents are supposed to be related, but there's no way to enforce that.\n",
    "*   Python's [standard library](https://docs.python.org/3/library/) is installed with it.\n",
    "*   Many additional libraries are available from [PyPI](https://pypi.python.org/pypi) (the Python Package Index).\n",
    "*   We will see later how to write new libraries.\n",
    "\n",
    "## A program must import a library in order to use it.\n",
    "\n",
    "*   Use `import` to load a library into a program's memory.\n",
    "*   Then refer to things from the library as `library_name.thing_name`.\n",
    "    *   Python uses `.` to mean \"part of\"."
   ]
  },
  {
   "cell_type": "code",
   "execution_count": 1,
   "metadata": {},
   "outputs": [
    {
     "name": "stdout",
     "output_type": "stream",
     "text": [
      "pi is 3.141592653589793\n",
      "cos(pi) is -1.0\n"
     ]
    }
   ],
   "source": [
    "import math\n",
    "\n",
    "print('pi is', math.pi)\n",
    "print('cos(pi) is', math.cos(math.pi))"
   ]
  },
  {
   "cell_type": "markdown",
   "metadata": {},
   "source": [
    "*   Have to refer to each item with the library's name.\n",
    "    *   `math.cos(pi)` won't work: the reference to `pi` doesn't somewhow \"inherit\" the function's reference to `math`.\n",
    "\n",
    "## Use `help` to find out more about a library's contents.\n",
    "\n",
    "*   Works just like help for a function."
   ]
  },
  {
   "cell_type": "code",
   "execution_count": 2,
   "metadata": {},
   "outputs": [
    {
     "name": "stdout",
     "output_type": "stream",
     "text": [
      "Help on module math:\n",
      "\n",
      "NAME\n",
      "    math\n",
      "\n",
      "MODULE REFERENCE\n",
      "    https://docs.python.org/3.8/library/math\n",
      "    \n",
      "    The following documentation is automatically generated from the Python\n",
      "    source files.  It may be incomplete, incorrect or include features that\n",
      "    are considered implementation detail and may vary between Python\n",
      "    implementations.  When in doubt, consult the module reference at the\n",
      "    location listed above.\n",
      "\n",
      "DESCRIPTION\n",
      "    This module provides access to the mathematical functions\n",
      "    defined by the C standard.\n",
      "\n",
      "FUNCTIONS\n",
      "    acos(x, /)\n",
      "        Return the arc cosine (measured in radians) of x.\n",
      "    \n",
      "    acosh(x, /)\n",
      "        Return the inverse hyperbolic cosine of x.\n",
      "    \n",
      "    asin(x, /)\n",
      "        Return the arc sine (measured in radians) of x.\n",
      "    \n",
      "    asinh(x, /)\n",
      "        Return the inverse hyperbolic sine of x.\n",
      "    \n",
      "    atan(x, /)\n",
      "        Return the arc tangent (measured in radians) of x.\n",
      "    \n",
      "    atan2(y, x, /)\n",
      "        Return the arc tangent (measured in radians) of y/x.\n",
      "        \n",
      "        Unlike atan(y/x), the signs of both x and y are considered.\n",
      "    \n",
      "    atanh(x, /)\n",
      "        Return the inverse hyperbolic tangent of x.\n",
      "    \n",
      "    ceil(x, /)\n",
      "        Return the ceiling of x as an Integral.\n",
      "        \n",
      "        This is the smallest integer >= x.\n",
      "    \n",
      "    comb(n, k, /)\n",
      "        Number of ways to choose k items from n items without repetition and without order.\n",
      "        \n",
      "        Evaluates to n! / (k! * (n - k)!) when k <= n and evaluates\n",
      "        to zero when k > n.\n",
      "        \n",
      "        Also called the binomial coefficient because it is equivalent\n",
      "        to the coefficient of k-th term in polynomial expansion of the\n",
      "        expression (1 + x)**n.\n",
      "        \n",
      "        Raises TypeError if either of the arguments are not integers.\n",
      "        Raises ValueError if either of the arguments are negative.\n",
      "    \n",
      "    copysign(x, y, /)\n",
      "        Return a float with the magnitude (absolute value) of x but the sign of y.\n",
      "        \n",
      "        On platforms that support signed zeros, copysign(1.0, -0.0)\n",
      "        returns -1.0.\n",
      "    \n",
      "    cos(x, /)\n",
      "        Return the cosine of x (measured in radians).\n",
      "    \n",
      "    cosh(x, /)\n",
      "        Return the hyperbolic cosine of x.\n",
      "    \n",
      "    degrees(x, /)\n",
      "        Convert angle x from radians to degrees.\n",
      "    \n",
      "    dist(p, q, /)\n",
      "        Return the Euclidean distance between two points p and q.\n",
      "        \n",
      "        The points should be specified as sequences (or iterables) of\n",
      "        coordinates.  Both inputs must have the same dimension.\n",
      "        \n",
      "        Roughly equivalent to:\n",
      "            sqrt(sum((px - qx) ** 2.0 for px, qx in zip(p, q)))\n",
      "    \n",
      "    erf(x, /)\n",
      "        Error function at x.\n",
      "    \n",
      "    erfc(x, /)\n",
      "        Complementary error function at x.\n",
      "    \n",
      "    exp(x, /)\n",
      "        Return e raised to the power of x.\n",
      "    \n",
      "    expm1(x, /)\n",
      "        Return exp(x)-1.\n",
      "        \n",
      "        This function avoids the loss of precision involved in the direct evaluation of exp(x)-1 for small x.\n",
      "    \n",
      "    fabs(x, /)\n",
      "        Return the absolute value of the float x.\n",
      "    \n",
      "    factorial(x, /)\n",
      "        Find x!.\n",
      "        \n",
      "        Raise a ValueError if x is negative or non-integral.\n",
      "    \n",
      "    floor(x, /)\n",
      "        Return the floor of x as an Integral.\n",
      "        \n",
      "        This is the largest integer <= x.\n",
      "    \n",
      "    fmod(x, y, /)\n",
      "        Return fmod(x, y), according to platform C.\n",
      "        \n",
      "        x % y may differ.\n",
      "    \n",
      "    frexp(x, /)\n",
      "        Return the mantissa and exponent of x, as pair (m, e).\n",
      "        \n",
      "        m is a float and e is an int, such that x = m * 2.**e.\n",
      "        If x is 0, m and e are both 0.  Else 0.5 <= abs(m) < 1.0.\n",
      "    \n",
      "    fsum(seq, /)\n",
      "        Return an accurate floating point sum of values in the iterable seq.\n",
      "        \n",
      "        Assumes IEEE-754 floating point arithmetic.\n",
      "    \n",
      "    gamma(x, /)\n",
      "        Gamma function at x.\n",
      "    \n",
      "    gcd(x, y, /)\n",
      "        greatest common divisor of x and y\n",
      "    \n",
      "    hypot(...)\n",
      "        hypot(*coordinates) -> value\n",
      "        \n",
      "        Multidimensional Euclidean distance from the origin to a point.\n",
      "        \n",
      "        Roughly equivalent to:\n",
      "            sqrt(sum(x**2 for x in coordinates))\n",
      "        \n",
      "        For a two dimensional point (x, y), gives the hypotenuse\n",
      "        using the Pythagorean theorem:  sqrt(x*x + y*y).\n",
      "        \n",
      "        For example, the hypotenuse of a 3/4/5 right triangle is:\n",
      "        \n",
      "            >>> hypot(3.0, 4.0)\n",
      "            5.0\n",
      "    \n",
      "    isclose(a, b, *, rel_tol=1e-09, abs_tol=0.0)\n",
      "        Determine whether two floating point numbers are close in value.\n",
      "        \n",
      "          rel_tol\n",
      "            maximum difference for being considered \"close\", relative to the\n",
      "            magnitude of the input values\n",
      "          abs_tol\n",
      "            maximum difference for being considered \"close\", regardless of the\n",
      "            magnitude of the input values\n",
      "        \n",
      "        Return True if a is close in value to b, and False otherwise.\n",
      "        \n",
      "        For the values to be considered close, the difference between them\n",
      "        must be smaller than at least one of the tolerances.\n",
      "        \n",
      "        -inf, inf and NaN behave similarly to the IEEE 754 Standard.  That\n",
      "        is, NaN is not close to anything, even itself.  inf and -inf are\n",
      "        only close to themselves.\n",
      "    \n",
      "    isfinite(x, /)\n",
      "        Return True if x is neither an infinity nor a NaN, and False otherwise.\n",
      "    \n",
      "    isinf(x, /)\n",
      "        Return True if x is a positive or negative infinity, and False otherwise.\n",
      "    \n",
      "    isnan(x, /)\n",
      "        Return True if x is a NaN (not a number), and False otherwise.\n",
      "    \n",
      "    isqrt(n, /)\n",
      "        Return the integer part of the square root of the input.\n",
      "    \n",
      "    ldexp(x, i, /)\n",
      "        Return x * (2**i).\n",
      "        \n",
      "        This is essentially the inverse of frexp().\n",
      "    \n",
      "    lgamma(x, /)\n",
      "        Natural logarithm of absolute value of Gamma function at x.\n",
      "    \n",
      "    log(...)\n",
      "        log(x, [base=math.e])\n",
      "        Return the logarithm of x to the given base.\n",
      "        \n",
      "        If the base not specified, returns the natural logarithm (base e) of x.\n",
      "    \n",
      "    log10(x, /)\n",
      "        Return the base 10 logarithm of x.\n",
      "    \n",
      "    log1p(x, /)\n",
      "        Return the natural logarithm of 1+x (base e).\n",
      "        \n",
      "        The result is computed in a way which is accurate for x near zero.\n",
      "    \n",
      "    log2(x, /)\n",
      "        Return the base 2 logarithm of x.\n",
      "    \n",
      "    modf(x, /)\n",
      "        Return the fractional and integer parts of x.\n",
      "        \n",
      "        Both results carry the sign of x and are floats.\n",
      "    \n",
      "    perm(n, k=None, /)\n",
      "        Number of ways to choose k items from n items without repetition and with order.\n",
      "        \n",
      "        Evaluates to n! / (n - k)! when k <= n and evaluates\n",
      "        to zero when k > n.\n",
      "        \n",
      "        If k is not specified or is None, then k defaults to n\n",
      "        and the function returns n!.\n",
      "        \n",
      "        Raises TypeError if either of the arguments are not integers.\n",
      "        Raises ValueError if either of the arguments are negative.\n",
      "    \n",
      "    pow(x, y, /)\n",
      "        Return x**y (x to the power of y).\n",
      "    \n",
      "    prod(iterable, /, *, start=1)\n",
      "        Calculate the product of all the elements in the input iterable.\n",
      "        \n",
      "        The default start value for the product is 1.\n",
      "        \n",
      "        When the iterable is empty, return the start value.  This function is\n",
      "        intended specifically for use with numeric values and may reject\n",
      "        non-numeric types.\n",
      "    \n",
      "    radians(x, /)\n",
      "        Convert angle x from degrees to radians.\n",
      "    \n",
      "    remainder(x, y, /)\n",
      "        Difference between x and the closest integer multiple of y.\n",
      "        \n",
      "        Return x - n*y where n*y is the closest integer multiple of y.\n",
      "        In the case where x is exactly halfway between two multiples of\n",
      "        y, the nearest even value of n is used. The result is always exact.\n",
      "    \n",
      "    sin(x, /)\n",
      "        Return the sine of x (measured in radians).\n",
      "    \n",
      "    sinh(x, /)\n",
      "        Return the hyperbolic sine of x.\n",
      "    \n",
      "    sqrt(x, /)\n",
      "        Return the square root of x.\n",
      "    \n",
      "    tan(x, /)\n",
      "        Return the tangent of x (measured in radians).\n",
      "    \n",
      "    tanh(x, /)\n",
      "        Return the hyperbolic tangent of x.\n",
      "    \n",
      "    trunc(x, /)\n",
      "        Truncates the Real x to the nearest Integral toward 0.\n",
      "        \n",
      "        Uses the __trunc__ magic method.\n",
      "\n",
      "DATA\n",
      "    e = 2.718281828459045\n",
      "    inf = inf\n",
      "    nan = nan\n",
      "    pi = 3.141592653589793\n",
      "    tau = 6.283185307179586\n",
      "\n",
      "FILE\n",
      "    /Users/anthea.mitchell/opt/anaconda3/lib/python3.8/lib-dynload/math.cpython-38-darwin.so\n",
      "\n",
      "\n"
     ]
    }
   ],
   "source": [
    "help(math)"
   ]
  },
  {
   "cell_type": "markdown",
   "metadata": {},
   "source": [
    "## Import specific items from a library to shorten programs.\n",
    "\n",
    "*   Use `from...import...` to load only specific items from a library.\n",
    "*   Then refer to them directly without the library name as prefix.\n"
   ]
  },
  {
   "cell_type": "code",
   "execution_count": 3,
   "metadata": {},
   "outputs": [
    {
     "name": "stdout",
     "output_type": "stream",
     "text": [
      "cos(pi) is -1.0\n"
     ]
    }
   ],
   "source": [
    "from math import cos, pi\n",
    "\n",
    "print('cos(pi) is', cos(pi))"
   ]
  },
  {
   "cell_type": "markdown",
   "metadata": {},
   "source": [
    "## Create an alias for a library when importing it to shorten programs.\n",
    "\n",
    "*   Use `import...as...` to give a library a short *alias* while importing it.\n",
    "*   Then refer to items in the library using that shortened name."
   ]
  },
  {
   "cell_type": "code",
   "execution_count": null,
   "metadata": {},
   "outputs": [],
   "source": [
    "import math as m\n",
    "\n",
    "print('cos(pi) is', m.cos(m.pi))"
   ]
  },
  {
   "cell_type": "markdown",
   "metadata": {},
   "source": [
    "*   Commonly used for libraries that are frequently used or have long names.\n",
    "    *   E.g., `matplotlib` plotting library is often aliased as `mpl`.\n",
    "*   But can make programs harder to understand,\n",
    "    since readers must learn your program's aliases."
   ]
  },
  {
   "cell_type": "markdown",
   "metadata": {},
   "source": [
    "## Installing a library with Anaconda Navigator\n",
    "\n",
    "Many popular (and some not-so-popular) libraries are available for installation through the Anaconda Navigator. Let's use the Anaconda Navigator to install a library called `fuzzywuzzy`. \n",
    "\n",
    "To do so, follow these steps:\n",
    "\n",
    "1. Open the Anaconda Navigator application\n",
    "2. Click the \"Environments\" tab in the left-hand menu\n",
    "3. Click the drop-down box that, by default, says \"Installed\". Change it to say \"All\".\n",
    "4. Click the \"Channels\" button, which will open up a dialog box. In that dialog box press the \"Add\" button in the top right corner. Type \"conda-forge\" in the new line that appears in the dialog box, then press enter. Finally press the green \"Update channels\" button in the bottom right-hand corner.\n",
    "5. Use the \"Search Package\" text box to enter \"fuzzywuzzy\" and press enter.\n",
    "6. Select the checkbox next to the fuzzywuzzy package (library) name that appears in the list below.\n",
    "7. Click the green \"Apply\" button in the bottom right-hand corner. This will open up a dialog box that says \"Install Packages\". It will say \"Solving package specifications\" with a blue progress bar. This may take a few minutes.\n",
    "8. Eventually it will show a list of packages that would need to be installed. If everything looks ok to you, press the green \"Apply\" button in the \"Install Packages dialog box\" which will install the packages. This may take a few minutes too."
   ]
  },
  {
   "cell_type": "code",
   "execution_count": null,
   "metadata": {},
   "outputs": [],
   "source": [
    "from fuzzywuzzy import fuzz\n",
    "\n",
    "print(fuzz.ratio(\"Rochelle\", \"Rochele\"))"
   ]
  },
  {
   "cell_type": "markdown",
   "metadata": {},
   "source": [
    "## Challenge 1: Locating the Right Library\n",
    "\n",
    "You want to select a random value from your data:"
   ]
  },
  {
   "cell_type": "code",
   "execution_count": null,
   "metadata": {},
   "outputs": [],
   "source": [
    " ids = [1, 2, 3, 4, 5, 6]"
   ]
  },
  {
   "cell_type": "markdown",
   "metadata": {},
   "source": [
    "1. What [standard library][stdlib]    would you most expect to help?\n",
    "2. Which function would you select from that library? Are there alternatives?\n",
    "\n",
    "[pypi]: https://pypi.python.org/pypi/\n",
    "[stdlib]: https://docs.python.org/3/library/"
   ]
  },
  {
   "cell_type": "markdown",
   "metadata": {},
   "source": [
    "## Challenge 2: Exploring the Math Library\n",
    "\n",
    " 1. What function from the `math` library can you use to calculate a square root\n",
    "    *without* using `sqrt`?\n",
    " 2. Since the library contains this function, why does `sqrt` exist?"
   ]
  },
  {
   "cell_type": "code",
   "execution_count": null,
   "metadata": {},
   "outputs": [],
   "source": []
  },
  {
   "cell_type": "markdown",
   "metadata": {},
   "source": [
    "## Challenge 3: When Is Help Available?\n",
    "\n",
    "When a colleague of yours types `help(math)`,\n",
    "Python reports an error:\n",
    "\n",
    "> ~~~\n",
    "> NameError: name 'math' is not defined\n",
    "> ~~~\n",
    "\n",
    "What has your colleague forgotten to do?"
   ]
  },
  {
   "cell_type": "code",
   "execution_count": null,
   "metadata": {},
   "outputs": [],
   "source": []
  },
  {
   "cell_type": "markdown",
   "metadata": {},
   "source": [
    "## Challenge 4:  Importing With Aliases\n",
    "\n",
    "1. Fill in the blanks so that the program below prints `90.0`.\n",
    "2. Rewrite the program so that it uses `import` *without* `as`.\n",
    "3. Which form do you find easier to read?"
   ]
  },
  {
   "cell_type": "code",
   "execution_count": null,
   "metadata": {},
   "outputs": [],
   "source": [
    "import math as m\n",
    "angle = ____.degrees(____.pi / 2)\n",
    "print(____)"
   ]
  },
  {
   "cell_type": "markdown",
   "metadata": {},
   "source": [
    "## Challenge 5: Importing Everything\n",
    "\n",
    "We can uses the `*` character to import everything from a library, and then refer to each item by name without a prefix."
   ]
  },
  {
   "cell_type": "code",
   "execution_count": null,
   "metadata": {},
   "outputs": [],
   "source": [
    "from math import *\n",
    "print(pi)"
   ]
  },
  {
   "cell_type": "markdown",
   "metadata": {},
   "source": [
    "Why would't programmers always use this form of import?"
   ]
  },
  {
   "cell_type": "markdown",
   "metadata": {},
   "source": [
    "## [OPTIONAL] Installing a library with `pip`"
   ]
  },
  {
   "cell_type": "markdown",
   "metadata": {},
   "source": [
    "While the Anaconda distribution comes with many additional libraries beyond the standard, it may happen that you find a library online that isn't yet installed on your computer. Most of the time, this library will be available in [PyPI](https://pypi.python.org/pypi) (the Python Package Index).\n",
    "\n",
    "To install from PyPI, simply open a terminal/shell window and type:\n",
    "\n",
    "`pip install \"name of package\"`\n",
    "\n",
    "Let's install a popular fuzzy matching library by typing:\n",
    "\n",
    "`pip install fuzzywuzzy`\n",
    "\n",
    "Once installed, we can import the library and use the `fuzz.ratio` method to compare two strings:"
   ]
  },
  {
   "cell_type": "code",
   "execution_count": 4,
   "metadata": {},
   "outputs": [
    {
     "name": "stdout",
     "output_type": "stream",
     "text": [
      "Collecting fuzzywuzzy\n",
      "  Downloading fuzzywuzzy-0.18.0-py2.py3-none-any.whl (18 kB)\n",
      "Installing collected packages: fuzzywuzzy\n",
      "Successfully installed fuzzywuzzy-0.18.0\n"
     ]
    }
   ],
   "source": [
    "! pip install fuzzywuzzy"
   ]
  },
  {
   "cell_type": "code",
   "execution_count": 6,
   "metadata": {},
   "outputs": [
    {
     "name": "stdout",
     "output_type": "stream",
     "text": [
      "93\n",
      "Help on module fuzzywuzzy.fuzz in fuzzywuzzy:\n",
      "\n",
      "NAME\n",
      "    fuzzywuzzy.fuzz - # encoding: utf-8\n",
      "\n",
      "FUNCTIONS\n",
      "    QRatio(s1, s2, force_ascii=True, full_process=True)\n",
      "        Quick ratio comparison between two strings.\n",
      "        \n",
      "        Runs full_process from utils on both strings\n",
      "        Short circuits if either of the strings is empty after processing.\n",
      "        \n",
      "        :param s1:\n",
      "        :param s2:\n",
      "        :param force_ascii: Allow only ASCII characters (Default: True)\n",
      "        :full_process: Process inputs, used here to avoid double processing in extract functions (Default: True)\n",
      "        :return: similarity ratio\n",
      "    \n",
      "    UQRatio(s1, s2, full_process=True)\n",
      "        Unicode quick ratio\n",
      "        \n",
      "        Calls QRatio with force_ascii set to False\n",
      "        \n",
      "        :param s1:\n",
      "        :param s2:\n",
      "        :return: similarity ratio\n",
      "    \n",
      "    UWRatio(s1, s2, full_process=True)\n",
      "        Return a measure of the sequences' similarity between 0 and 100,\n",
      "        using different algorithms. Same as WRatio but preserving unicode.\n",
      "    \n",
      "    WRatio(s1, s2, force_ascii=True, full_process=True)\n",
      "        Return a measure of the sequences' similarity between 0 and 100, using different algorithms.\n",
      "        \n",
      "        **Steps in the order they occur**\n",
      "        \n",
      "        #. Run full_process from utils on both strings\n",
      "        #. Short circuit if this makes either string empty\n",
      "        #. Take the ratio of the two processed strings (fuzz.ratio)\n",
      "        #. Run checks to compare the length of the strings\n",
      "            * If one of the strings is more than 1.5 times as long as the other\n",
      "              use partial_ratio comparisons - scale partial results by 0.9\n",
      "              (this makes sure only full results can return 100)\n",
      "            * If one of the strings is over 8 times as long as the other\n",
      "              instead scale by 0.6\n",
      "        \n",
      "        #. Run the other ratio functions\n",
      "            * if using partial ratio functions call partial_ratio,\n",
      "              partial_token_sort_ratio and partial_token_set_ratio\n",
      "              scale all of these by the ratio based on length\n",
      "            * otherwise call token_sort_ratio and token_set_ratio\n",
      "            * all token based comparisons are scaled by 0.95\n",
      "              (on top of any partial scalars)\n",
      "        \n",
      "        #. Take the highest value from these results\n",
      "           round it and return it as an integer.\n",
      "        \n",
      "        :param s1:\n",
      "        :param s2:\n",
      "        :param force_ascii: Allow only ascii characters\n",
      "        :type force_ascii: bool\n",
      "        :full_process: Process inputs, used here to avoid double processing in extract functions (Default: True)\n",
      "        :return:\n",
      "    \n",
      "    partial_ratio(s1, s2)\n",
      "        \"Return the ratio of the most similar substring\n",
      "        as a number between 0 and 100.\n",
      "    \n",
      "    partial_token_set_ratio(s1, s2, force_ascii=True, full_process=True)\n",
      "    \n",
      "    partial_token_sort_ratio(s1, s2, force_ascii=True, full_process=True)\n",
      "        Return the ratio of the most similar substring as a number between\n",
      "        0 and 100 but sorting the token before comparing.\n",
      "    \n",
      "    ratio(s1, s2)\n",
      "    \n",
      "    token_set_ratio(s1, s2, force_ascii=True, full_process=True)\n",
      "    \n",
      "    token_sort_ratio(s1, s2, force_ascii=True, full_process=True)\n",
      "        Return a measure of the sequences' similarity between 0 and 100\n",
      "        but sorting the token before comparing.\n",
      "\n",
      "DATA\n",
      "    __warningregistry__ = {'version': 16, ('Using slow pure-python Sequenc...\n",
      "    unicode_literals = _Feature((2, 6, 0, 'alpha', 2), (3, 0, 0, 'alpha', ...\n",
      "\n",
      "FILE\n",
      "    /Users/anthea.mitchell/opt/anaconda3/lib/python3.8/site-packages/fuzzywuzzy/fuzz.py\n",
      "\n",
      "\n"
     ]
    }
   ],
   "source": [
    "from fuzzywuzzy import fuzz\n",
    "\n",
    "print(fuzz.ratio(\"Rochelle\", \"Rochele\"))\n",
    "help(fuzz)\n"
   ]
  },
  {
   "cell_type": "markdown",
   "metadata": {
    "collapsed": true
   },
   "source": [
    "*****\n",
    "## Keypoints\n",
    "\n",
    "- \"Most of the power of a programming language is in its libraries.\"\n",
    "- \"A program must import a [library](https://github.com/dlab-berkeley/python-intensive/blob/master/Glossary.md#library) in order to use it.\"\n",
    "- \"Use `help` to find out more about a library's contents.\"\n",
    "- \"Import specific items from a library to shorten programs.\"\n",
    "- \"Create an alias for a library when importing it to shorten programs.\""
   ]
  },
  {
   "cell_type": "code",
   "execution_count": null,
   "metadata": {},
   "outputs": [],
   "source": []
  }
 ],
 "metadata": {
  "kernelspec": {
   "display_name": "Python 3",
   "language": "python",
   "name": "python3"
  },
  "language_info": {
   "codemirror_mode": {
    "name": "ipython",
    "version": 3
   },
   "file_extension": ".py",
   "mimetype": "text/x-python",
   "name": "python",
   "nbconvert_exporter": "python",
   "pygments_lexer": "ipython3",
   "version": "3.8.5"
  },
  "toc": {
   "base_numbering": 1,
   "nav_menu": {},
   "number_sections": false,
   "sideBar": true,
   "skip_h1_title": false,
   "title_cell": "Table of Contents",
   "title_sidebar": "Contents",
   "toc_cell": false,
   "toc_position": {},
   "toc_section_display": true,
   "toc_window_display": false
  },
  "varInspector": {
   "cols": {
    "lenName": 16,
    "lenType": 16,
    "lenVar": 40
   },
   "kernels_config": {
    "python": {
     "delete_cmd_postfix": "",
     "delete_cmd_prefix": "del ",
     "library": "var_list.py",
     "varRefreshCmd": "print(var_dic_list())"
    },
    "r": {
     "delete_cmd_postfix": ") ",
     "delete_cmd_prefix": "rm(",
     "library": "var_list.r",
     "varRefreshCmd": "cat(var_dic_list()) "
    }
   },
   "types_to_exclude": [
    "module",
    "function",
    "builtin_function_or_method",
    "instance",
    "_Feature"
   ],
   "window_display": false
  }
 },
 "nbformat": 4,
 "nbformat_minor": 1
}
